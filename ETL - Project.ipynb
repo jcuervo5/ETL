{
 "cells": [
  {
   "cell_type": "code",
   "execution_count": 1,
   "metadata": {},
   "outputs": [],
   "source": [
    "import pandas as pd\n",
    "from sqlalchemy import create_engine"
   ]
  },
  {
   "cell_type": "code",
   "execution_count": 2,
   "metadata": {},
   "outputs": [],
   "source": [
    "statcast = \"exit_velocity.csv\"\n",
    "\n",
    "player_info = 'C:/Users/javie/Desktop/Baseball/baseballdatabank-master/core/People.csv'\n",
    "batting = 'C:/Users/javie/Desktop/Baseball/baseballdatabank-master/core/Batting.csv'\n",
    "\n",
    "df = pd.read_csv(statcast)\n",
    "df1 = pd.read_csv(player_info)\n",
    "df2 = pd.read_csv(batting)\n",
    "\n",
    "df3=pd.DataFrame.merge(df1,df2,on='playerID')\n",
    "df3 = df3[(df3['yearID']>2019)]"
   ]
  },
  {
   "cell_type": "code",
   "execution_count": 3,
   "metadata": {},
   "outputs": [],
   "source": [
    "new_df = df[[' first_name', 'last_name','attempts','max_hit_speed', 'avg_hit_speed',\n",
    "       'max_distance', 'avg_distance', 'ev95plus','brl_pa']]\n",
    "\n",
    "new_df1 = df3[['nameFirst', 'nameLast','birthCountry','birthState', 'birthCity']]\n",
    "\n",
    "new_df2 = new_df1.rename(columns={'nameFirst': 'first_name','nameLast': 'last_name'}).drop_duplicates().reset_index(drop=True)"
   ]
  },
  {
   "cell_type": "code",
   "execution_count": 5,
   "metadata": {},
   "outputs": [
    {
     "data": {
      "text/html": [
       "<div>\n",
       "<style scoped>\n",
       "    .dataframe tbody tr th:only-of-type {\n",
       "        vertical-align: middle;\n",
       "    }\n",
       "\n",
       "    .dataframe tbody tr th {\n",
       "        vertical-align: top;\n",
       "    }\n",
       "\n",
       "    .dataframe thead th {\n",
       "        text-align: right;\n",
       "    }\n",
       "</style>\n",
       "<table border=\"1\" class=\"dataframe\">\n",
       "  <thead>\n",
       "    <tr style=\"text-align: right;\">\n",
       "      <th></th>\n",
       "      <th>Player</th>\n",
       "      <th>Country</th>\n",
       "      <th>State</th>\n",
       "      <th>City</th>\n",
       "    </tr>\n",
       "  </thead>\n",
       "  <tbody>\n",
       "    <tr>\n",
       "      <th>0</th>\n",
       "      <td>Albert Abreu</td>\n",
       "      <td>D.R.</td>\n",
       "      <td>Monte Cristi</td>\n",
       "      <td>Guayubin</td>\n",
       "    </tr>\n",
       "    <tr>\n",
       "      <th>1</th>\n",
       "      <td>Bryan Abreu</td>\n",
       "      <td>D.R.</td>\n",
       "      <td>Distrito Nacional</td>\n",
       "      <td>Santo Domingo</td>\n",
       "    </tr>\n",
       "    <tr>\n",
       "      <th>2</th>\n",
       "      <td>Jose Abreu</td>\n",
       "      <td>Cuba</td>\n",
       "      <td>Cienfuegos</td>\n",
       "      <td>Cienfuegos</td>\n",
       "    </tr>\n",
       "    <tr>\n",
       "      <th>3</th>\n",
       "      <td>Ronald Acuna</td>\n",
       "      <td>Venezuela</td>\n",
       "      <td>La Guaira</td>\n",
       "      <td>La Guaira</td>\n",
       "    </tr>\n",
       "    <tr>\n",
       "      <th>4</th>\n",
       "      <td>Willy Adames</td>\n",
       "      <td>D.R.</td>\n",
       "      <td>Santiago</td>\n",
       "      <td>Santiago</td>\n",
       "    </tr>\n",
       "    <tr>\n",
       "      <th>...</th>\n",
       "      <td>...</td>\n",
       "      <td>...</td>\n",
       "      <td>...</td>\n",
       "      <td>...</td>\n",
       "    </tr>\n",
       "    <tr>\n",
       "      <th>1281</th>\n",
       "      <td>Bruce Zimmermann</td>\n",
       "      <td>USA</td>\n",
       "      <td>MD</td>\n",
       "      <td>Baltimore</td>\n",
       "    </tr>\n",
       "    <tr>\n",
       "      <th>1282</th>\n",
       "      <td>Jordan Zimmermann</td>\n",
       "      <td>USA</td>\n",
       "      <td>WI</td>\n",
       "      <td>Auburndale</td>\n",
       "    </tr>\n",
       "    <tr>\n",
       "      <th>1283</th>\n",
       "      <td>Kyle Zimmer</td>\n",
       "      <td>USA</td>\n",
       "      <td>CA</td>\n",
       "      <td>San Francisco</td>\n",
       "    </tr>\n",
       "    <tr>\n",
       "      <th>1284</th>\n",
       "      <td>Tyler Zuber</td>\n",
       "      <td>USA</td>\n",
       "      <td>AR</td>\n",
       "      <td>White Hall</td>\n",
       "    </tr>\n",
       "    <tr>\n",
       "      <th>1285</th>\n",
       "      <td>Mike Zunino</td>\n",
       "      <td>USA</td>\n",
       "      <td>FL</td>\n",
       "      <td>Cape Coral</td>\n",
       "    </tr>\n",
       "  </tbody>\n",
       "</table>\n",
       "<p>1286 rows × 4 columns</p>\n",
       "</div>"
      ],
      "text/plain": [
       "                 Player    Country              State           City\n",
       "0          Albert Abreu       D.R.       Monte Cristi       Guayubin\n",
       "1           Bryan Abreu       D.R.  Distrito Nacional  Santo Domingo\n",
       "2            Jose Abreu       Cuba         Cienfuegos     Cienfuegos\n",
       "3          Ronald Acuna  Venezuela          La Guaira      La Guaira\n",
       "4          Willy Adames       D.R.           Santiago       Santiago\n",
       "...                 ...        ...                ...            ...\n",
       "1281   Bruce Zimmermann        USA                 MD      Baltimore\n",
       "1282  Jordan Zimmermann        USA                 WI     Auburndale\n",
       "1283        Kyle Zimmer        USA                 CA  San Francisco\n",
       "1284        Tyler Zuber        USA                 AR     White Hall\n",
       "1285        Mike Zunino        USA                 FL     Cape Coral\n",
       "\n",
       "[1286 rows x 4 columns]"
      ]
     },
     "execution_count": 5,
     "metadata": {},
     "output_type": "execute_result"
    }
   ],
   "source": [
    "new_df2['Player'] = new_df2['first_name'].str.cat(new_df2['last_name'],sep=\" \")\n",
    "new_df3 = new_df2[['Player','birthCountry', 'birthState', 'birthCity']]\n",
    "new_df3 = new_df3.rename(columns={'birthCountry':'Country', 'birthState':'State', 'birthCity':'City'})\n",
    "new_df3"
   ]
  },
  {
   "cell_type": "markdown",
   "metadata": {},
   "source": [
    "df.keys("
   ]
  },
  {
   "cell_type": "code",
   "execution_count": 8,
   "metadata": {},
   "outputs": [
    {
     "name": "stderr",
     "output_type": "stream",
     "text": [
      "C:\\Users\\javie\\.conda\\envs\\PythonData\\lib\\site-packages\\ipykernel_launcher.py:1: SettingWithCopyWarning: \n",
      "A value is trying to be set on a copy of a slice from a DataFrame.\n",
      "Try using .loc[row_indexer,col_indexer] = value instead\n",
      "\n",
      "See the caveats in the documentation: https://pandas.pydata.org/pandas-docs/stable/user_guide/indexing.html#returning-a-view-versus-a-copy\n",
      "  \"\"\"Entry point for launching an IPython kernel.\n"
     ]
    },
    {
     "data": {
      "text/html": [
       "<div>\n",
       "<style scoped>\n",
       "    .dataframe tbody tr th:only-of-type {\n",
       "        vertical-align: middle;\n",
       "    }\n",
       "\n",
       "    .dataframe tbody tr th {\n",
       "        vertical-align: top;\n",
       "    }\n",
       "\n",
       "    .dataframe thead th {\n",
       "        text-align: right;\n",
       "    }\n",
       "</style>\n",
       "<table border=\"1\" class=\"dataframe\">\n",
       "  <thead>\n",
       "    <tr style=\"text-align: right;\">\n",
       "      <th></th>\n",
       "      <th>Player</th>\n",
       "      <th>attempts</th>\n",
       "      <th>max_hit_speed</th>\n",
       "      <th>avg_hit_speed</th>\n",
       "      <th>max_distance</th>\n",
       "      <th>avg_distance</th>\n",
       "      <th>ev95plus</th>\n",
       "      <th>brl_pa</th>\n",
       "    </tr>\n",
       "  </thead>\n",
       "  <tbody>\n",
       "    <tr>\n",
       "      <th>0</th>\n",
       "      <td>Will Craig</td>\n",
       "      <td>3</td>\n",
       "      <td>100.8</td>\n",
       "      <td>91.6</td>\n",
       "      <td>382</td>\n",
       "      <td>248</td>\n",
       "      <td>2.0</td>\n",
       "      <td>25.0</td>\n",
       "    </tr>\n",
       "    <tr>\n",
       "      <th>1</th>\n",
       "      <td>Travis Blankenhorn</td>\n",
       "      <td>3</td>\n",
       "      <td>108.8</td>\n",
       "      <td>89.3</td>\n",
       "      <td>346</td>\n",
       "      <td>240</td>\n",
       "      <td>1.0</td>\n",
       "      <td>25.0</td>\n",
       "    </tr>\n",
       "    <tr>\n",
       "      <th>2</th>\n",
       "      <td>Seth Brown</td>\n",
       "      <td>3</td>\n",
       "      <td>105.2</td>\n",
       "      <td>89.0</td>\n",
       "      <td>373</td>\n",
       "      <td>203</td>\n",
       "      <td>1.0</td>\n",
       "      <td>20.0</td>\n",
       "    </tr>\n",
       "    <tr>\n",
       "      <th>3</th>\n",
       "      <td>Sam Huff</td>\n",
       "      <td>20</td>\n",
       "      <td>111.4</td>\n",
       "      <td>95.7</td>\n",
       "      <td>410</td>\n",
       "      <td>214</td>\n",
       "      <td>12.0</td>\n",
       "      <td>15.2</td>\n",
       "    </tr>\n",
       "    <tr>\n",
       "      <th>4</th>\n",
       "      <td>Austin Dean</td>\n",
       "      <td>2</td>\n",
       "      <td>111.5</td>\n",
       "      <td>99.7</td>\n",
       "      <td>368</td>\n",
       "      <td>342</td>\n",
       "      <td>1.0</td>\n",
       "      <td>14.3</td>\n",
       "    </tr>\n",
       "    <tr>\n",
       "      <th>...</th>\n",
       "      <td>...</td>\n",
       "      <td>...</td>\n",
       "      <td>...</td>\n",
       "      <td>...</td>\n",
       "      <td>...</td>\n",
       "      <td>...</td>\n",
       "      <td>...</td>\n",
       "      <td>...</td>\n",
       "    </tr>\n",
       "    <tr>\n",
       "      <th>562</th>\n",
       "      <td>Christian Colón</td>\n",
       "      <td>20</td>\n",
       "      <td>103.3</td>\n",
       "      <td>76.0</td>\n",
       "      <td>371</td>\n",
       "      <td>116</td>\n",
       "      <td>4.0</td>\n",
       "      <td>0.0</td>\n",
       "    </tr>\n",
       "    <tr>\n",
       "      <th>563</th>\n",
       "      <td>Adolis Garcia</td>\n",
       "      <td>2</td>\n",
       "      <td>76.4</td>\n",
       "      <td>74.4</td>\n",
       "      <td>188</td>\n",
       "      <td>96</td>\n",
       "      <td>NaN</td>\n",
       "      <td>0.0</td>\n",
       "    </tr>\n",
       "    <tr>\n",
       "      <th>564</th>\n",
       "      <td>Erick Mejia</td>\n",
       "      <td>9</td>\n",
       "      <td>96.3</td>\n",
       "      <td>74.0</td>\n",
       "      <td>337</td>\n",
       "      <td>171</td>\n",
       "      <td>1.0</td>\n",
       "      <td>0.0</td>\n",
       "    </tr>\n",
       "    <tr>\n",
       "      <th>565</th>\n",
       "      <td>Deivy Grullón</td>\n",
       "      <td>2</td>\n",
       "      <td>83.4</td>\n",
       "      <td>73.7</td>\n",
       "      <td>205</td>\n",
       "      <td>159</td>\n",
       "      <td>NaN</td>\n",
       "      <td>0.0</td>\n",
       "    </tr>\n",
       "    <tr>\n",
       "      <th>566</th>\n",
       "      <td>Eduardo Núñez</td>\n",
       "      <td>2</td>\n",
       "      <td>80.0</td>\n",
       "      <td>73.6</td>\n",
       "      <td>271</td>\n",
       "      <td>136</td>\n",
       "      <td>NaN</td>\n",
       "      <td>0.0</td>\n",
       "    </tr>\n",
       "  </tbody>\n",
       "</table>\n",
       "<p>567 rows × 8 columns</p>\n",
       "</div>"
      ],
      "text/plain": [
       "                  Player  attempts  max_hit_speed  avg_hit_speed  \\\n",
       "0             Will Craig         3          100.8           91.6   \n",
       "1     Travis Blankenhorn         3          108.8           89.3   \n",
       "2             Seth Brown         3          105.2           89.0   \n",
       "3               Sam Huff        20          111.4           95.7   \n",
       "4            Austin Dean         2          111.5           99.7   \n",
       "..                   ...       ...            ...            ...   \n",
       "562      Christian Colón        20          103.3           76.0   \n",
       "563        Adolis Garcia         2           76.4           74.4   \n",
       "564          Erick Mejia         9           96.3           74.0   \n",
       "565        Deivy Grullón         2           83.4           73.7   \n",
       "566        Eduardo Núñez         2           80.0           73.6   \n",
       "\n",
       "     max_distance  avg_distance  ev95plus  brl_pa  \n",
       "0             382           248       2.0    25.0  \n",
       "1             346           240       1.0    25.0  \n",
       "2             373           203       1.0    20.0  \n",
       "3             410           214      12.0    15.2  \n",
       "4             368           342       1.0    14.3  \n",
       "..            ...           ...       ...     ...  \n",
       "562           371           116       4.0     0.0  \n",
       "563           188            96       NaN     0.0  \n",
       "564           337           171       1.0     0.0  \n",
       "565           205           159       NaN     0.0  \n",
       "566           271           136       NaN     0.0  \n",
       "\n",
       "[567 rows x 8 columns]"
      ]
     },
     "execution_count": 8,
     "metadata": {},
     "output_type": "execute_result"
    }
   ],
   "source": [
    "new_df['Player'] = new_df[' first_name'].str.cat(new_df['last_name'],sep=\" \")\n",
    "new_df4 = new_df[['Player','attempts', 'max_hit_speed','avg_hit_speed', 'max_distance', 'avg_distance', 'ev95plus', 'brl_pa']]\n",
    "new_df4"
   ]
  },
  {
   "cell_type": "code",
   "execution_count": 10,
   "metadata": {},
   "outputs": [
    {
     "data": {
      "text/plain": [
       "Index(['Player', 'Country', 'State', 'City'], dtype='object')"
      ]
     },
     "execution_count": 10,
     "metadata": {},
     "output_type": "execute_result"
    }
   ],
   "source": [
    "new_df3.keys()"
   ]
  },
  {
   "cell_type": "code",
   "execution_count": 11,
   "metadata": {},
   "outputs": [],
   "source": [
    "statcast_df = new_df4\n",
    "player_demo = new_df3"
   ]
  },
  {
   "cell_type": "code",
   "execution_count": 34,
   "metadata": {},
   "outputs": [
    {
     "data": {
      "text/plain": [
       "Index(['Player', 'attempts', 'max_hit_speed', 'avg_hit_speed', 'max_distance',\n",
       "       'avg_distance', 'ev95plus', 'brl_pa'],\n",
       "      dtype='object')"
      ]
     },
     "execution_count": 34,
     "metadata": {},
     "output_type": "execute_result"
    }
   ],
   "source": [
    "statcast_df.keys()"
   ]
  },
  {
   "cell_type": "code",
   "execution_count": 17,
   "metadata": {},
   "outputs": [],
   "source": [
    "rds_connection_string = \"postgres:Andrew8270@localhost:5432/ETL_project\"\n",
    "engine = create_engine(f'postgresql://{rds_connection_string}')"
   ]
  },
  {
   "cell_type": "code",
   "execution_count": 35,
   "metadata": {},
   "outputs": [
    {
     "data": {
      "text/plain": [
       "['statcast_db', 'player_demo']"
      ]
     },
     "execution_count": 35,
     "metadata": {},
     "output_type": "execute_result"
    }
   ],
   "source": [
    "engine.table_names()"
   ]
  },
  {
   "cell_type": "code",
   "execution_count": 36,
   "metadata": {},
   "outputs": [],
   "source": [
    "statcast_df.to_sql(name=\"statcast_db\", con=engine, if_exists='replace', index=False)"
   ]
  },
  {
   "cell_type": "code",
   "execution_count": 37,
   "metadata": {},
   "outputs": [],
   "source": [
    "player_demo.to_sql(name=\"player_demo\", con=engine, if_exists='replace', index=False)"
   ]
  },
  {
   "cell_type": "code",
   "execution_count": 38,
   "metadata": {},
   "outputs": [],
   "source": [
    "merged_df = pd.DataFrame.merge(player_demo,statcast_df,on='Player', how='inner')"
   ]
  },
  {
   "cell_type": "code",
   "execution_count": 33,
   "metadata": {},
   "outputs": [
    {
     "data": {
      "text/html": [
       "<div>\n",
       "<style scoped>\n",
       "    .dataframe tbody tr th:only-of-type {\n",
       "        vertical-align: middle;\n",
       "    }\n",
       "\n",
       "    .dataframe tbody tr th {\n",
       "        vertical-align: top;\n",
       "    }\n",
       "\n",
       "    .dataframe thead th {\n",
       "        text-align: right;\n",
       "    }\n",
       "</style>\n",
       "<table border=\"1\" class=\"dataframe\">\n",
       "  <thead>\n",
       "    <tr style=\"text-align: right;\">\n",
       "      <th></th>\n",
       "      <th>Player</th>\n",
       "      <th>Country</th>\n",
       "      <th>State</th>\n",
       "      <th>City</th>\n",
       "      <th>attempts</th>\n",
       "      <th>max_hit_speed</th>\n",
       "      <th>avg_hit_speed</th>\n",
       "      <th>max_distance</th>\n",
       "      <th>avg_distance</th>\n",
       "      <th>ev95plus</th>\n",
       "      <th>brl_pa</th>\n",
       "    </tr>\n",
       "  </thead>\n",
       "  <tbody>\n",
       "  </tbody>\n",
       "</table>\n",
       "</div>"
      ],
      "text/plain": [
       "Empty DataFrame\n",
       "Columns: [Player, Country, State, City, attempts, max_hit_speed, avg_hit_speed, max_distance, avg_distance, ev95plus, brl_pa]\n",
       "Index: []"
      ]
     },
     "execution_count": 33,
     "metadata": {},
     "output_type": "execute_result"
    }
   ],
   "source": [
    "merged_df"
   ]
  },
  {
   "cell_type": "code",
   "execution_count": null,
   "metadata": {},
   "outputs": [],
   "source": []
  }
 ],
 "metadata": {
  "kernelspec": {
   "display_name": "Python [conda env:.conda-PythonData] *",
   "language": "python",
   "name": "conda-env-.conda-PythonData-py"
  },
  "language_info": {
   "codemirror_mode": {
    "name": "ipython",
    "version": 3
   },
   "file_extension": ".py",
   "mimetype": "text/x-python",
   "name": "python",
   "nbconvert_exporter": "python",
   "pygments_lexer": "ipython3",
   "version": "3.6.12"
  }
 },
 "nbformat": 4,
 "nbformat_minor": 4
}
